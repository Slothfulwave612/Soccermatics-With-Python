{
 "cells": [
  {
   "cell_type": "code",
   "execution_count": 11,
   "metadata": {},
   "outputs": [],
   "source": [
    "import numpy as np\n",
    "import pandas as pd\n",
    "from scipy import stats\n",
    "\n",
    "%run ../src/utils.py"
   ]
  },
  {
   "cell_type": "code",
   "execution_count": 2,
   "metadata": {},
   "outputs": [],
   "source": [
    "pd.set_option(\"display.max_columns\", None)"
   ]
  },
  {
   "cell_type": "code",
   "execution_count": 3,
   "metadata": {},
   "outputs": [],
   "source": [
    "df = pd.read_csv(\"../data/la_liga_2020_21.csv\")"
   ]
  },
  {
   "cell_type": "code",
   "execution_count": 4,
   "metadata": {},
   "outputs": [],
   "source": [
    "home_df, away_df = get_home_away_df(df)"
   ]
  },
  {
   "cell_type": "code",
   "execution_count": 5,
   "metadata": {},
   "outputs": [
    {
     "data": {
      "text/html": [
       "<div>\n",
       "<style scoped>\n",
       "    .dataframe tbody tr th:only-of-type {\n",
       "        vertical-align: middle;\n",
       "    }\n",
       "\n",
       "    .dataframe tbody tr th {\n",
       "        vertical-align: top;\n",
       "    }\n",
       "\n",
       "    .dataframe thead th {\n",
       "        text-align: right;\n",
       "    }\n",
       "</style>\n",
       "<table border=\"1\" class=\"dataframe\">\n",
       "  <thead>\n",
       "    <tr style=\"text-align: right;\">\n",
       "      <th></th>\n",
       "      <th>Squad</th>\n",
       "      <th>MP</th>\n",
       "      <th>W</th>\n",
       "      <th>D</th>\n",
       "      <th>L</th>\n",
       "      <th>GF</th>\n",
       "      <th>GA</th>\n",
       "      <th>GD</th>\n",
       "      <th>Pts</th>\n",
       "      <th>Pts/G</th>\n",
       "      <th>xG</th>\n",
       "      <th>xGA</th>\n",
       "      <th>xGD</th>\n",
       "      <th>xGD/90</th>\n",
       "    </tr>\n",
       "  </thead>\n",
       "  <tbody>\n",
       "    <tr>\n",
       "      <th>0</th>\n",
       "      <td>Atlético Madrid</td>\n",
       "      <td>15</td>\n",
       "      <td>11</td>\n",
       "      <td>3</td>\n",
       "      <td>1</td>\n",
       "      <td>30</td>\n",
       "      <td>9</td>\n",
       "      <td>21</td>\n",
       "      <td>36</td>\n",
       "      <td>2.40</td>\n",
       "      <td>19.8</td>\n",
       "      <td>14.3</td>\n",
       "      <td>5.5</td>\n",
       "      <td>0.37</td>\n",
       "    </tr>\n",
       "    <tr>\n",
       "      <th>1</th>\n",
       "      <td>Barcelona</td>\n",
       "      <td>15</td>\n",
       "      <td>10</td>\n",
       "      <td>4</td>\n",
       "      <td>1</td>\n",
       "      <td>37</td>\n",
       "      <td>14</td>\n",
       "      <td>23</td>\n",
       "      <td>34</td>\n",
       "      <td>2.27</td>\n",
       "      <td>36.6</td>\n",
       "      <td>17.1</td>\n",
       "      <td>19.6</td>\n",
       "      <td>1.30</td>\n",
       "    </tr>\n",
       "    <tr>\n",
       "      <th>2</th>\n",
       "      <td>Real Madrid</td>\n",
       "      <td>14</td>\n",
       "      <td>10</td>\n",
       "      <td>1</td>\n",
       "      <td>3</td>\n",
       "      <td>25</td>\n",
       "      <td>9</td>\n",
       "      <td>16</td>\n",
       "      <td>31</td>\n",
       "      <td>2.21</td>\n",
       "      <td>21.5</td>\n",
       "      <td>12.3</td>\n",
       "      <td>9.2</td>\n",
       "      <td>0.66</td>\n",
       "    </tr>\n",
       "    <tr>\n",
       "      <th>3</th>\n",
       "      <td>Sevilla</td>\n",
       "      <td>15</td>\n",
       "      <td>11</td>\n",
       "      <td>1</td>\n",
       "      <td>3</td>\n",
       "      <td>23</td>\n",
       "      <td>9</td>\n",
       "      <td>14</td>\n",
       "      <td>34</td>\n",
       "      <td>2.27</td>\n",
       "      <td>21.9</td>\n",
       "      <td>12.7</td>\n",
       "      <td>9.2</td>\n",
       "      <td>0.61</td>\n",
       "    </tr>\n",
       "  </tbody>\n",
       "</table>\n",
       "</div>"
      ],
      "text/plain": [
       "             Squad  MP   W  D  L  GF  GA  GD  Pts  Pts/G    xG   xGA   xGD  \\\n",
       "0  Atlético Madrid  15  11  3  1  30   9  21   36   2.40  19.8  14.3   5.5   \n",
       "1        Barcelona  15  10  4  1  37  14  23   34   2.27  36.6  17.1  19.6   \n",
       "2      Real Madrid  14  10  1  3  25   9  16   31   2.21  21.5  12.3   9.2   \n",
       "3          Sevilla  15  11  1  3  23   9  14   34   2.27  21.9  12.7   9.2   \n",
       "\n",
       "   xGD/90  \n",
       "0    0.37  \n",
       "1    1.30  \n",
       "2    0.66  \n",
       "3    0.61  "
      ]
     },
     "execution_count": 5,
     "metadata": {},
     "output_type": "execute_result"
    }
   ],
   "source": [
    "home_df.head(4)"
   ]
  },
  {
   "cell_type": "code",
   "execution_count": 6,
   "metadata": {},
   "outputs": [
    {
     "data": {
      "text/html": [
       "<div>\n",
       "<style scoped>\n",
       "    .dataframe tbody tr th:only-of-type {\n",
       "        vertical-align: middle;\n",
       "    }\n",
       "\n",
       "    .dataframe tbody tr th {\n",
       "        vertical-align: top;\n",
       "    }\n",
       "\n",
       "    .dataframe thead th {\n",
       "        text-align: right;\n",
       "    }\n",
       "</style>\n",
       "<table border=\"1\" class=\"dataframe\">\n",
       "  <thead>\n",
       "    <tr style=\"text-align: right;\">\n",
       "      <th></th>\n",
       "      <th>Squad</th>\n",
       "      <th>MP</th>\n",
       "      <th>W</th>\n",
       "      <th>D</th>\n",
       "      <th>L</th>\n",
       "      <th>GF</th>\n",
       "      <th>GA</th>\n",
       "      <th>GD</th>\n",
       "      <th>Pts</th>\n",
       "      <th>Pts/G</th>\n",
       "      <th>xG</th>\n",
       "      <th>xGA</th>\n",
       "      <th>xGD</th>\n",
       "      <th>xGD/90</th>\n",
       "    </tr>\n",
       "  </thead>\n",
       "  <tbody>\n",
       "    <tr>\n",
       "      <th>0</th>\n",
       "      <td>Atlético Madrid</td>\n",
       "      <td>14</td>\n",
       "      <td>9</td>\n",
       "      <td>3</td>\n",
       "      <td>2</td>\n",
       "      <td>21</td>\n",
       "      <td>10</td>\n",
       "      <td>11</td>\n",
       "      <td>30</td>\n",
       "      <td>2.14</td>\n",
       "      <td>17.7</td>\n",
       "      <td>11.1</td>\n",
       "      <td>6.6</td>\n",
       "      <td>0.47</td>\n",
       "    </tr>\n",
       "    <tr>\n",
       "      <th>1</th>\n",
       "      <td>Barcelona</td>\n",
       "      <td>14</td>\n",
       "      <td>10</td>\n",
       "      <td>1</td>\n",
       "      <td>3</td>\n",
       "      <td>31</td>\n",
       "      <td>10</td>\n",
       "      <td>21</td>\n",
       "      <td>31</td>\n",
       "      <td>2.21</td>\n",
       "      <td>25.8</td>\n",
       "      <td>13.3</td>\n",
       "      <td>12.5</td>\n",
       "      <td>0.89</td>\n",
       "    </tr>\n",
       "    <tr>\n",
       "      <th>2</th>\n",
       "      <td>Real Madrid</td>\n",
       "      <td>15</td>\n",
       "      <td>9</td>\n",
       "      <td>5</td>\n",
       "      <td>1</td>\n",
       "      <td>26</td>\n",
       "      <td>14</td>\n",
       "      <td>12</td>\n",
       "      <td>32</td>\n",
       "      <td>2.13</td>\n",
       "      <td>26.8</td>\n",
       "      <td>15.2</td>\n",
       "      <td>11.6</td>\n",
       "      <td>0.77</td>\n",
       "    </tr>\n",
       "    <tr>\n",
       "      <th>3</th>\n",
       "      <td>Sevilla</td>\n",
       "      <td>14</td>\n",
       "      <td>7</td>\n",
       "      <td>3</td>\n",
       "      <td>4</td>\n",
       "      <td>17</td>\n",
       "      <td>12</td>\n",
       "      <td>5</td>\n",
       "      <td>24</td>\n",
       "      <td>1.71</td>\n",
       "      <td>15.2</td>\n",
       "      <td>13.6</td>\n",
       "      <td>1.7</td>\n",
       "      <td>0.12</td>\n",
       "    </tr>\n",
       "  </tbody>\n",
       "</table>\n",
       "</div>"
      ],
      "text/plain": [
       "             Squad  MP   W  D  L  GF  GA  GD  Pts  Pts/G    xG   xGA   xGD  \\\n",
       "0  Atlético Madrid  14   9  3  2  21  10  11   30   2.14  17.7  11.1   6.6   \n",
       "1        Barcelona  14  10  1  3  31  10  21   31   2.21  25.8  13.3  12.5   \n",
       "2      Real Madrid  15   9  5  1  26  14  12   32   2.13  26.8  15.2  11.6   \n",
       "3          Sevilla  14   7  3  4  17  12   5   24   1.71  15.2  13.6   1.7   \n",
       "\n",
       "   xGD/90  \n",
       "0    0.47  \n",
       "1    0.89  \n",
       "2    0.77  \n",
       "3    0.12  "
      ]
     },
     "execution_count": 6,
     "metadata": {},
     "output_type": "execute_result"
    }
   ],
   "source": [
    "away_df.head(4)"
   ]
  },
  {
   "cell_type": "code",
   "execution_count": 32,
   "metadata": {},
   "outputs": [
    {
     "name": "stdout",
     "output_type": "stream",
     "text": [
      "Real Madrid scores 33.35% more goals at home than theoretical average league team.\n",
      "\n",
      "Barcelona scores 96.3% more goals at away than theoretical average league team.\n",
      "\n",
      "Real Madrid concedes 43.01% fewer goals at home than theoretical average league team.\n",
      "\n",
      "Barcelona concedes 46.66% fewer goals at away than theoretical average league team.\n",
      "\n",
      "Real Madrid's Projected Goals: 0.9525127880609607 | Barcelona's Projected Goals: 1.2619099787154129\n"
     ]
    }
   ],
   "source": [
    "home_team, away_team = \"Real Madrid\", \"Barcelona\"\n",
    "\n",
    "home_goals_projected, away_goals_projected = get_goals_projection(\n",
    "    home_df, away_df, home_team, away_team, display_stats=True\n",
    ")"
   ]
  },
  {
   "cell_type": "code",
   "execution_count": 33,
   "metadata": {},
   "outputs": [],
   "source": [
    "# home team\n",
    "home_pois = np.round(stats.poisson.pmf(range(0,6), mu=home_goals_projected), 4)\n",
    "\n",
    "# away team\n",
    "away_pois = np.round(stats.poisson.pmf(range(0,6), mu=away_goals_projected), 4)"
   ]
  },
  {
   "cell_type": "code",
   "execution_count": 34,
   "metadata": {},
   "outputs": [],
   "source": [
    "matrix = np.zeros(shape=(7,7)) + -1\n",
    "\n",
    "for i in range(1, len(away_pois) + 1):\n",
    "    for j in range(1, len(home_pois) + 1):\n",
    "        matrix[i, j] = round(away_pois[i-1] * home_pois[j-1], 4)\n",
    "\n",
    "for i in range(1, len(home_pois) + 1):\n",
    "    matrix[0, i] = round(home_pois[i-1], 4)\n",
    "    \n",
    "for i in range(1, len(home_pois) + 1):\n",
    "    matrix[i, 0] = round(away_pois[i-1], 4)    "
   ]
  },
  {
   "cell_type": "code",
   "execution_count": 35,
   "metadata": {},
   "outputs": [
    {
     "name": "stdout",
     "output_type": "stream",
     "text": [
      "-1.0 0.3858 0.3675 0.175 0.0556 0.0132 \n",
      "0.2831 0.1092 0.104 0.0495 0.0157 0.0037 \n",
      "0.3573 0.1378 0.1313 0.0625 0.0199 0.0047 \n",
      "0.2254 0.087 0.0828 0.0394 0.0125 0.003 \n",
      "0.0948 0.0366 0.0348 0.0166 0.0053 0.0013 \n",
      "0.0299 0.0115 0.011 0.0052 0.0017 0.0004 \n"
     ]
    }
   ],
   "source": [
    "for i in range(len(away_pois)):\n",
    "    for j in range(len(home_pois)):\n",
    "        print(matrix[i, j], end=' ')\n",
    "    print()"
   ]
  }
 ],
 "metadata": {
  "kernelspec": {
   "display_name": "Python 3",
   "language": "python",
   "name": "python3"
  },
  "language_info": {
   "codemirror_mode": {
    "name": "ipython",
    "version": 3
   },
   "file_extension": ".py",
   "mimetype": "text/x-python",
   "name": "python",
   "nbconvert_exporter": "python",
   "pygments_lexer": "ipython3",
   "version": "3.7.7"
  }
 },
 "nbformat": 4,
 "nbformat_minor": 4
}
